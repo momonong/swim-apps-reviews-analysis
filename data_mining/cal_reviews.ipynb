{
 "cells": [
  {
   "cell_type": "code",
   "execution_count": 1,
   "metadata": {},
   "outputs": [
    {
     "name": "stderr",
     "output_type": "stream",
     "text": [
      "/var/folders/38/1tx9b7sn70xck3_kfmth5qyr0000gn/T/ipykernel_35042/4080736814.py:1: DeprecationWarning: \n",
      "Pyarrow will become a required dependency of pandas in the next major release of pandas (pandas 3.0),\n",
      "(to allow more performant data types, such as the Arrow string type, and better interoperability with other libraries)\n",
      "but was not found to be installed on your system.\n",
      "If this would cause problems for you,\n",
      "please provide us feedback at https://github.com/pandas-dev/pandas/issues/54466\n",
      "        \n",
      "  import pandas as pd\n"
     ]
    }
   ],
   "source": [
    "import pandas as pd"
   ]
  },
  {
   "cell_type": "code",
   "execution_count": 3,
   "metadata": {},
   "outputs": [
    {
     "data": {
      "text/html": [
       "<div>\n",
       "<style scoped>\n",
       "    .dataframe tbody tr th:only-of-type {\n",
       "        vertical-align: middle;\n",
       "    }\n",
       "\n",
       "    .dataframe tbody tr th {\n",
       "        vertical-align: top;\n",
       "    }\n",
       "\n",
       "    .dataframe thead th {\n",
       "        text-align: right;\n",
       "    }\n",
       "</style>\n",
       "<table border=\"1\" class=\"dataframe\">\n",
       "  <thead>\n",
       "    <tr style=\"text-align: right;\">\n",
       "      <th></th>\n",
       "      <th>date</th>\n",
       "      <th>review</th>\n",
       "      <th>rating</th>\n",
       "      <th>title</th>\n",
       "      <th>platform</th>\n",
       "      <th>thumbs_up_count</th>\n",
       "      <th>review_version</th>\n",
       "      <th>app_version</th>\n",
       "      <th>app</th>\n",
       "    </tr>\n",
       "  </thead>\n",
       "  <tbody>\n",
       "    <tr>\n",
       "      <th>0</th>\n",
       "      <td>2023-02-16 16:47:48</td>\n",
       "      <td>Fantastic app, it changed my way to workout in...</td>\n",
       "      <td>5</td>\n",
       "      <td>Amazing app, some improvements needed</td>\n",
       "      <td>AppStore</td>\n",
       "      <td>NaN</td>\n",
       "      <td>NaN</td>\n",
       "      <td>NaN</td>\n",
       "      <td>duoswim</td>\n",
       "    </tr>\n",
       "    <tr>\n",
       "      <th>1</th>\n",
       "      <td>2023-12-01 18:08:43</td>\n",
       "      <td>Brilliant app which not only looks great but w...</td>\n",
       "      <td>5</td>\n",
       "      <td>Highly recommend</td>\n",
       "      <td>AppStore</td>\n",
       "      <td>NaN</td>\n",
       "      <td>NaN</td>\n",
       "      <td>NaN</td>\n",
       "      <td>duoswim</td>\n",
       "    </tr>\n",
       "    <tr>\n",
       "      <th>2</th>\n",
       "      <td>2023-01-14 18:32:17</td>\n",
       "      <td>Positive: The coaching side seems ok and decen...</td>\n",
       "      <td>2</td>\n",
       "      <td>Watch app is very limited, integration apple f...</td>\n",
       "      <td>AppStore</td>\n",
       "      <td>NaN</td>\n",
       "      <td>NaN</td>\n",
       "      <td>NaN</td>\n",
       "      <td>duoswim</td>\n",
       "    </tr>\n",
       "    <tr>\n",
       "      <th>3</th>\n",
       "      <td>2022-06-12 10:13:29</td>\n",
       "      <td>Finally a swim app that looks great and provid...</td>\n",
       "      <td>5</td>\n",
       "      <td>A brilliant app</td>\n",
       "      <td>AppStore</td>\n",
       "      <td>NaN</td>\n",
       "      <td>NaN</td>\n",
       "      <td>NaN</td>\n",
       "      <td>duoswim</td>\n",
       "    </tr>\n",
       "    <tr>\n",
       "      <th>4</th>\n",
       "      <td>2022-06-11 19:02:41</td>\n",
       "      <td>This app is very easy to use. I love how you c...</td>\n",
       "      <td>5</td>\n",
       "      <td>Great for all swimmers!</td>\n",
       "      <td>AppStore</td>\n",
       "      <td>NaN</td>\n",
       "      <td>NaN</td>\n",
       "      <td>NaN</td>\n",
       "      <td>duoswim</td>\n",
       "    </tr>\n",
       "  </tbody>\n",
       "</table>\n",
       "</div>"
      ],
      "text/plain": [
       "                  date                                             review  \\\n",
       "0  2023-02-16 16:47:48  Fantastic app, it changed my way to workout in...   \n",
       "1  2023-12-01 18:08:43  Brilliant app which not only looks great but w...   \n",
       "2  2023-01-14 18:32:17  Positive: The coaching side seems ok and decen...   \n",
       "3  2022-06-12 10:13:29  Finally a swim app that looks great and provid...   \n",
       "4  2022-06-11 19:02:41  This app is very easy to use. I love how you c...   \n",
       "\n",
       "   rating                                              title  platform  \\\n",
       "0       5              Amazing app, some improvements needed  AppStore   \n",
       "1       5                                   Highly recommend  AppStore   \n",
       "2       2  Watch app is very limited, integration apple f...  AppStore   \n",
       "3       5                                    A brilliant app  AppStore   \n",
       "4       5                            Great for all swimmers!  AppStore   \n",
       "\n",
       "   thumbs_up_count review_version app_version      app  \n",
       "0              NaN            NaN         NaN  duoswim  \n",
       "1              NaN            NaN         NaN  duoswim  \n",
       "2              NaN            NaN         NaN  duoswim  \n",
       "3              NaN            NaN         NaN  duoswim  \n",
       "4              NaN            NaN         NaN  duoswim  "
      ]
     },
     "execution_count": 3,
     "metadata": {},
     "output_type": "execute_result"
    }
   ],
   "source": [
    "df = pd.read_csv('new_result/all_concat.csv')\n",
    "df.drop('Unnamed: 0', axis=1, inplace=True)\n",
    "df.head()"
   ]
  },
  {
   "cell_type": "code",
   "execution_count": 4,
   "metadata": {},
   "outputs": [
    {
     "name": "stdout",
     "output_type": "stream",
     "text": [
      "         app  no_text  with_text\n",
      "0    duoswim        0         18\n",
      "1  form-swim        0        219\n",
      "2  myswimpro        1        959\n",
      "3   swim-com        0        648\n",
      "4     swimup        0         70\n"
     ]
    }
   ],
   "source": [
    "# 檢查'review'欄位是否有文字\n",
    "df['has_review_text'] = df['review'].notna()\n",
    "\n",
    "# 計算每個應用程序有文字評論和沒有文字評論的評論數量\n",
    "review_counts = df.groupby(['app', 'has_review_text']).size().unstack(fill_value=0).reset_index()\n",
    "\n",
    "# 重命名欄位以便於理解\n",
    "review_counts.columns = ['app', 'no_text', 'with_text']\n",
    "\n",
    "print(review_counts)"
   ]
  },
  {
   "cell_type": "code",
   "execution_count": 6,
   "metadata": {},
   "outputs": [
    {
     "data": {
      "text/plain": [
       "('2015-02-03 10:51:46', '2023-12-18 01:55:37')"
      ]
     },
     "execution_count": 6,
     "metadata": {},
     "output_type": "execute_result"
    }
   ],
   "source": [
    "# Convert 'date' column to datetime\n",
    "# df['date'] = pd.to_datetime(df['date'])\n",
    "\n",
    "\n",
    "# Find the earliest and latest review dates\n",
    "earliest_review_date = df['date'].min()\n",
    "latest_review_date = df['date'].max()\n",
    "\n",
    "earliest_review_date, latest_review_date\n"
   ]
  },
  {
   "cell_type": "code",
   "execution_count": null,
   "metadata": {},
   "outputs": [],
   "source": []
  }
 ],
 "metadata": {
  "kernelspec": {
   "display_name": ".venv",
   "language": "python",
   "name": "python3"
  },
  "language_info": {
   "codemirror_mode": {
    "name": "ipython",
    "version": 3
   },
   "file_extension": ".py",
   "mimetype": "text/x-python",
   "name": "python",
   "nbconvert_exporter": "python",
   "pygments_lexer": "ipython3",
   "version": "3.10.14"
  }
 },
 "nbformat": 4,
 "nbformat_minor": 2
}
