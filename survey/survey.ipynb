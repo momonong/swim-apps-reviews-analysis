{
 "cells": [
  {
   "cell_type": "code",
   "execution_count": 8,
   "metadata": {},
   "outputs": [],
   "source": [
    "import pandas as pd"
   ]
  },
  {
   "cell_type": "code",
   "execution_count": 9,
   "metadata": {},
   "outputs": [
    {
     "data": {
      "text/html": [
       "<div>\n",
       "<style scoped>\n",
       "    .dataframe tbody tr th:only-of-type {\n",
       "        vertical-align: middle;\n",
       "    }\n",
       "\n",
       "    .dataframe tbody tr th {\n",
       "        vertical-align: top;\n",
       "    }\n",
       "\n",
       "    .dataframe thead th {\n",
       "        text-align: right;\n",
       "    }\n",
       "</style>\n",
       "<table border=\"1\" class=\"dataframe\">\n",
       "  <thead>\n",
       "    <tr style=\"text-align: right;\">\n",
       "      <th></th>\n",
       "      <th>時間戳記</th>\n",
       "      <th>日期</th>\n",
       "      <th>選手/教練姓名</th>\n",
       "      <th>價格</th>\n",
       "      <th>主要問題</th>\n",
       "    </tr>\n",
       "  </thead>\n",
       "  <tbody>\n",
       "    <tr>\n",
       "      <th>46</th>\n",
       "      <td>2024/05/06 1:16:18 下午 GMT+8</td>\n",
       "      <td>2024-05-06</td>\n",
       "      <td>盧岳洋 選手</td>\n",
       "      <td>1000/泳隊，100~200/月</td>\n",
       "      <td>儲存 儲存成模板 定義不清楚\\n新增的模板的按鈕可以大一點 \\n比賽的秒數成績可以在第一次儲...</td>\n",
       "    </tr>\n",
       "    <tr>\n",
       "      <th>47</th>\n",
       "      <td>2024/05/06 1:45:50 下午 GMT+8</td>\n",
       "      <td>2024-05-06</td>\n",
       "      <td>選手 何丞恩 jjeugene0918@gmail.com</td>\n",
       "      <td>100+/教練月，30~60/選手月</td>\n",
       "      <td>一開始建菜單會不確定按哪個按鈕\\n動作有時候或到其他影片中看 新增其他分解動作 有一些動作是...</td>\n",
       "    </tr>\n",
       "    <tr>\n",
       "      <th>48</th>\n",
       "      <td>2024/05/06 2:14:21 下午 GMT+8</td>\n",
       "      <td>2024-05-06</td>\n",
       "      <td>選手 莊曜嶸</td>\n",
       "      <td>買斷 30~60</td>\n",
       "      <td>訂閱制不太可行\\n好的教練已經有自己的一套模式了\\n教練在試用上會有一個習慣成本去克服 我們...</td>\n",
       "    </tr>\n",
       "    <tr>\n",
       "      <th>49</th>\n",
       "      <td>2024/05/06 2:31:35 下午 GMT+8</td>\n",
       "      <td>2024-05-06</td>\n",
       "      <td>楊欣頤 選手</td>\n",
       "      <td>89/月</td>\n",
       "      <td>課表的部分可能會沒注意到趟數\\n為什麼儲存成模板會一直出現請注意格式\\n課表的時間 要在寫清...</td>\n",
       "    </tr>\n",
       "    <tr>\n",
       "      <th>50</th>\n",
       "      <td>2024/05/06 2:47:10 下午 GMT+8</td>\n",
       "      <td>2024-05-06</td>\n",
       "      <td>洪亞新 選手</td>\n",
       "      <td>0</td>\n",
       "      <td>儲存 跟 儲存為模板的功能 \\n點擊日曆的日期 希望就可以開啟當天的課表\\n器材列表加一個自...</td>\n",
       "    </tr>\n",
       "    <tr>\n",
       "      <th>51</th>\n",
       "      <td>2024/05/06 3:29:54 下午 GMT+8</td>\n",
       "      <td>2024-05-06</td>\n",
       "      <td>黃筠靜，許乃予</td>\n",
       "      <td>10000/隊，年</td>\n",
       "      <td>儲存課表都會不見 第一次使用會直接按下儲存 \\n泳姿可以加上一個自訂\\n儲存的機制會有點模糊...</td>\n",
       "    </tr>\n",
       "    <tr>\n",
       "      <th>52</th>\n",
       "      <td>2024/05/06 3:45:27 下午 GMT+8</td>\n",
       "      <td>2024-05-06</td>\n",
       "      <td>吳震鴻</td>\n",
       "      <td>團隊可能會買 10000/年 隊</td>\n",
       "      <td>儲存 儲存模板的機制有點模糊\\n菜單儲存下來後 希望可以編輯\\n時間的選取可以用滾輪的 時間...</td>\n",
       "    </tr>\n",
       "    <tr>\n",
       "      <th>53</th>\n",
       "      <td>2024/05/06 4:27:07 下午 GMT+8</td>\n",
       "      <td>2024-05-06</td>\n",
       "      <td>中興教練</td>\n",
       "      <td>0/月</td>\n",
       "      <td>新增器材可以調整 \\n泳姿希望可以加上其他的選項\\n技術動作有些會看不懂 希望可以有說明的檔...</td>\n",
       "    </tr>\n",
       "    <tr>\n",
       "      <th>54</th>\n",
       "      <td>2024/05/06 5:03:44 下午 GMT+8</td>\n",
       "      <td>2024-05-06</td>\n",
       "      <td>李至斌 教練</td>\n",
       "      <td>結合的很好的話 根據功能標價</td>\n",
       "      <td>新增課表的部分有點不太直覺\\n課表可不可以多出類型的顏色 像是紅色字寫熱身\\n泳姿希望可以有...</td>\n",
       "    </tr>\n",
       "  </tbody>\n",
       "</table>\n",
       "</div>"
      ],
      "text/plain": [
       "                           時間戳記         日期                        選手/教練姓名  \\\n",
       "46  2024/05/06 1:16:18 下午 GMT+8 2024-05-06                         盧岳洋 選手   \n",
       "47  2024/05/06 1:45:50 下午 GMT+8 2024-05-06  選手 何丞恩 jjeugene0918@gmail.com   \n",
       "48  2024/05/06 2:14:21 下午 GMT+8 2024-05-06                         選手 莊曜嶸   \n",
       "49  2024/05/06 2:31:35 下午 GMT+8 2024-05-06                         楊欣頤 選手   \n",
       "50  2024/05/06 2:47:10 下午 GMT+8 2024-05-06                         洪亞新 選手   \n",
       "51  2024/05/06 3:29:54 下午 GMT+8 2024-05-06                        黃筠靜，許乃予   \n",
       "52  2024/05/06 3:45:27 下午 GMT+8 2024-05-06                            吳震鴻   \n",
       "53  2024/05/06 4:27:07 下午 GMT+8 2024-05-06                           中興教練   \n",
       "54  2024/05/06 5:03:44 下午 GMT+8 2024-05-06                         李至斌 教練   \n",
       "\n",
       "                    價格                                               主要問題  \n",
       "46   1000/泳隊，100~200/月  儲存 儲存成模板 定義不清楚\\n新增的模板的按鈕可以大一點 \\n比賽的秒數成績可以在第一次儲...  \n",
       "47  100+/教練月，30~60/選手月  一開始建菜單會不確定按哪個按鈕\\n動作有時候或到其他影片中看 新增其他分解動作 有一些動作是...  \n",
       "48            買斷 30~60  訂閱制不太可行\\n好的教練已經有自己的一套模式了\\n教練在試用上會有一個習慣成本去克服 我們...  \n",
       "49                89/月  課表的部分可能會沒注意到趟數\\n為什麼儲存成模板會一直出現請注意格式\\n課表的時間 要在寫清...  \n",
       "50                   0  儲存 跟 儲存為模板的功能 \\n點擊日曆的日期 希望就可以開啟當天的課表\\n器材列表加一個自...  \n",
       "51           10000/隊，年  儲存課表都會不見 第一次使用會直接按下儲存 \\n泳姿可以加上一個自訂\\n儲存的機制會有點模糊...  \n",
       "52    團隊可能會買 10000/年 隊  儲存 儲存模板的機制有點模糊\\n菜單儲存下來後 希望可以編輯\\n時間的選取可以用滾輪的 時間...  \n",
       "53                 0/月  新增器材可以調整 \\n泳姿希望可以加上其他的選項\\n技術動作有些會看不懂 希望可以有說明的檔...  \n",
       "54      結合的很好的話 根據功能標價  新增課表的部分有點不太直覺\\n課表可不可以多出類型的顏色 像是紅色字寫熱身\\n泳姿希望可以有...  "
      ]
     },
     "execution_count": 9,
     "metadata": {},
     "output_type": "execute_result"
    }
   ],
   "source": [
    "df = pd.read_csv('0405我的游泳日記測試.csv')\n",
    "# 將日期欄位轉換為日期格式\n",
    "df['日期'] = pd.to_datetime(df['日期'], errors='coerce')\n",
    "\n",
    "# 篩選出日期為 5/6 的回應\n",
    "filtered_df = df.loc[df['日期'] == '2024-05-06']\n",
    "\n",
    "# 顯示篩選後的資料\n",
    "filtered_df"
   ]
  },
  {
   "cell_type": "code",
   "execution_count": 10,
   "metadata": {},
   "outputs": [
    {
     "data": {
      "text/plain": [
       "9"
      ]
     },
     "execution_count": 10,
     "metadata": {},
     "output_type": "execute_result"
    }
   ],
   "source": [
    "len(filtered_df)"
   ]
  },
  {
   "cell_type": "code",
   "execution_count": 11,
   "metadata": {},
   "outputs": [],
   "source": [
    "filtered_df.to_csv('0506.csv')"
   ]
  },
  {
   "cell_type": "code",
   "execution_count": null,
   "metadata": {},
   "outputs": [],
   "source": []
  }
 ],
 "metadata": {
  "kernelspec": {
   "display_name": ".venv",
   "language": "python",
   "name": "python3"
  },
  "language_info": {
   "codemirror_mode": {
    "name": "ipython",
    "version": 3
   },
   "file_extension": ".py",
   "mimetype": "text/x-python",
   "name": "python",
   "nbconvert_exporter": "python",
   "pygments_lexer": "ipython3",
   "version": "3.12.7"
  }
 },
 "nbformat": 4,
 "nbformat_minor": 2
}
