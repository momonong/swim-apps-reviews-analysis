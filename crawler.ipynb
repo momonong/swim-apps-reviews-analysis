{
 "cells": [
  {
   "cell_type": "code",
   "execution_count": 1,
   "metadata": {},
   "outputs": [],
   "source": [
    "import requests\n",
    "import json\n",
    "from bs4 import BeautifulSoup\n",
    "from selenium import webdriver\n",
    "import pandas as pd\n",
    "import time"
   ]
  },
  {
   "cell_type": "code",
   "execution_count": 2,
   "metadata": {},
   "outputs": [],
   "source": [
    "# 發送 HTTP 請求，獲取網頁內容\n",
    "url = 'https://apps.apple.com/gb/app/duoswim-swim-workout-app/id1548487050'\n",
    "response = requests.get(url)\n",
    "html_content = response.content\n",
    "\n",
    "# 使用 BeautifulSoup 解析 HTML\n",
    "soup = BeautifulSoup(html_content, 'html.parser')\n",
    "\n",
    "# 使用選擇器定位評論元素，假設評論位於 <div class=\"comment\"> 元素中\n",
    "comment_elements = soup.find_all('div', class_='comment')\n",
    "\n",
    "# 逐一處理評論元素\n",
    "for comment in comment_elements:\n",
    "    # 提取評論內容等數據\n",
    "    comment_text = comment.text\n",
    "    print(comment_text)\n"
   ]
  },
  {
   "cell_type": "code",
   "execution_count": 3,
   "metadata": {},
   "outputs": [],
   "source": [
    "options = webdriver.ChromeOptions()\n",
    "options.add_argument('--headless')\n",
    "options.add_argument('--no-sandbox')\n",
    "options.add_argument('--disable-dev-shm-usage')\n",
    "options.add_argument('--disable-notifications')\n",
    "drvier = webdriver.Chrome(options=options)\n",
    "drvier.get('https://play.google.com/store/apps/details?id=com.myswimpro.android.app')\n",
    "time.sleep(1)\n",
    "try:\n",
    "    drvier.find_element_by_xpath('//div[@jsname=\"V68bde\"]//span[@class=\"vRMGwf\"]').click()\n",
    "except:\n",
    "    pass"
   ]
  },
  {
   "cell_type": "code",
   "execution_count": 6,
   "metadata": {},
   "outputs": [
    {
     "data": {
      "text/plain": [
       "'hello world'"
      ]
     },
     "execution_count": 6,
     "metadata": {},
     "output_type": "execute_result"
    }
   ],
   "source": [
    "if "
   ]
  },
  {
   "cell_type": "code",
   "execution_count": 7,
   "metadata": {},
   "outputs": [
    {
     "data": {
      "text/plain": [
       "'No. 23-11, Aly. 36, Ln. 459, Sec. 1, Anhe Rd., Annan Dist., Tainan City 郵遞區號 , Taiwan (R.O.C.)'"
      ]
     },
     "execution_count": 7,
     "metadata": {},
     "output_type": "execute_result"
    }
   ],
   "source": [
    "'No. 23-11, Aly. 36, Ln. 459, Sec. 1, Anhe Rd., Annan Dist., Tainan City 郵遞區號 , Taiwan (R.O.C.)'"
   ]
  },
  {
   "cell_type": "code",
   "execution_count": null,
   "metadata": {},
   "outputs": [],
   "source": []
  }
 ],
 "metadata": {
  "kernelspec": {
   "display_name": ".venv",
   "language": "python",
   "name": "python3"
  },
  "language_info": {
   "codemirror_mode": {
    "name": "ipython",
    "version": 3
   },
   "file_extension": ".py",
   "mimetype": "text/x-python",
   "name": "python",
   "nbconvert_exporter": "python",
   "pygments_lexer": "ipython3",
   "version": "3.10.12"
  },
  "orig_nbformat": 4
 },
 "nbformat": 4,
 "nbformat_minor": 2
}
