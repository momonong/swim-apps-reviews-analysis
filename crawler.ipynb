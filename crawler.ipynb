{
 "cells": [
  {
   "cell_type": "code",
   "execution_count": 52,
   "metadata": {},
   "outputs": [
    {
     "name": "stderr",
     "output_type": "stream",
     "text": [
      "2023-09-01 18:06:37,645 [INFO] Base - Initialised: AppStore('us', 'duoswim', 1548487050)\n",
      "2023-09-01 18:06:37,646 [INFO] Base - Ready to fetch reviews from: https://apps.apple.com/us/app/duoswim/id1548487050\n",
      "2023-09-01 18:06:38,010 [INFO] Base - [id:1548487050] Fetched 5 reviews (5 fetched in total)\n",
      "2023-09-01 18:06:38,157 [INFO] Base - Initialised: AppStore('us', 'myswimpro', 994386450)\n",
      "2023-09-01 18:06:38,158 [INFO] Base - Ready to fetch reviews from: https://apps.apple.com/us/app/myswimpro/id994386450\n",
      "2023-09-01 18:06:43,332 [INFO] Base - [id:994386450] Fetched 340 reviews (340 fetched in total)\n",
      "2023-09-01 18:06:46,095 [INFO] Base - [id:994386450] Fetched 504 reviews (504 fetched in total)\n",
      "2023-09-01 18:06:46,223 [INFO] Base - Initialised: AppStore('us', 'swim-com', 956030704)\n",
      "2023-09-01 18:06:46,224 [INFO] Base - Ready to fetch reviews from: https://apps.apple.com/us/app/swim-com/id956030704\n",
      "2023-09-01 18:06:49,888 [INFO] Base - [id:956030704] Fetched 231 reviews (231 fetched in total)\n",
      "2023-09-01 18:06:50,019 [INFO] Base - Initialised: AppStore('us', 'form-swim', 1321117442)\n",
      "2023-09-01 18:06:50,019 [INFO] Base - Ready to fetch reviews from: https://apps.apple.com/us/app/form-swim/id1321117442\n",
      "2023-09-01 18:06:51,220 [INFO] Base - [id:1321117442] Fetched 61 reviews (61 fetched in total)\n",
      "2023-09-01 18:06:51,358 [INFO] Base - Initialised: AppStore('us', 'swimup', 1477061412)\n",
      "2023-09-01 18:06:51,360 [INFO] Base - Ready to fetch reviews from: https://apps.apple.com/us/app/swimup/id1477061412\n",
      "2023-09-01 18:06:51,748 [INFO] Base - [id:1477061412] Fetched 8 reviews (8 fetched in total)\n"
     ]
    }
   ],
   "source": [
    "import pandas as pd\n",
    "import numpy as np\n",
    "import json\n",
    "\n",
    "from app_store_scraper import AppStore\n",
    "duoswim = AppStore(country='us', app_name='DuoSwim', app_id='1548487050')\n",
    "duoswim.review(how_many=1000)\n",
    "myswimpro = AppStore(country='us', app_name='MySwimPro', app_id='994386450')\n",
    "myswimpro.review(how_many=3800)\n",
    "swimcom = AppStore(country='us', app_name='Swim.com', app_id='956030704')\n",
    "swimcom.review(how_many=1000)\n",
    "form = AppStore(country='us', app_name='FORM Swim', app_id='1321117442')\n",
    "form.review(how_many=2100)\n",
    "swimup = AppStore(country='us', app_name='SwimUp', app_id='1477061412')\n",
    "swimup.review(how_many=50)"
   ]
  },
  {
   "cell_type": "code",
   "execution_count": 53,
   "metadata": {},
   "outputs": [
    {
     "name": "stdout",
     "output_type": "stream",
     "text": [
      "{'date': datetime.datetime(2023, 2, 24, 19, 7, 55), 'developerResponse': {'id': 35091856, 'body': 'Hi, thanks for your excellent feedback, we really appreciate it. We have some great news! The development team are working hard to implement adjustable turnaround times and rest periods. This will be made available soon. We will keep you updated with our progress.\\n\\nIn terms of your other points, I will pass your feedback onto the development team for further investigation. Happy swimming!', 'modified': '2023-02-27T10:01:06Z'}, 'review': 'Overall great app. I signed up for a free trial and after using 3 times bought a year’s subscription. Three areas I’d like to see improvements. One, the ability to see on my watch what is coming up next. I don’t see the next set until the final 10 seconds begin to count down and, if I need to put on or take off fins for example, I fall behind. Second, if I do fall behind it would be great to be able to pause or restart the set. As it is, I just usually skip one interval to get back on track. And lastly, sending the workouts to my watch (Apple SE) is glitchy at times and I need to reset the watch and/or my phone (has happened twice in the first 4x using it). But overall great and something I expect to use ongoing.', 'rating': 5, 'isEdited': False, 'title': 'Great - a few areas could be improved', 'userName': 'Swimming in NJ'}\n",
      "{'date': datetime.datetime(2023, 1, 27, 22, 31, 43), 'review': 'Got the app 5 weeks ago and I have made more progress in that time than the whole 1.5 years of swimming on my own before. The customized coaching is great and the app certainly pushes you but never has unreasonably high expectations of you. The ability to customize what goals you are working towards, how often you swim, how fast you swim, and what strokes you swim are all excellent features. Only negative I’ve experienced is minor bugs with sync issues between the app and my smartwatch. This hasn’t impacted my ability to use all the features just needed to use work arounds with how the workout is accessed by the watch. Minor bugs stop me from giving it a 5* but I am still loving the app. If I could see some additional features the biggest would be the ability to go back a set/split in a workout. Sometimes I can’t keep up with the times it says and I fall behind so this would help keep me on track. Also, the ability to toggle which swim equipment you have access to. My pool offers kick boards and pullbouys but no fins or paddles and I’d imagine it varies for everyone.', 'rating': 4, 'isEdited': False, 'userName': 'Rcote33', 'title': 'My Swim Pro Review'}\n",
      "{'date': datetime.datetime(2018, 10, 15, 14, 50, 36), 'developerResponse': {'id': 6236997, 'body': 'Thank you for your feedback. We recently released version 2.3.2 which fixed the tracking issue for Apple Watch users. In addition, we recently (Friday of last week) completed revision of our technology roadmap and feature set. Expect to see several changes implemented over the next 60 days. These changes will significantly enhance our analytics capabilities including more detailed breakdown by different parameters. \\n\\nPlease keep sharing your feedback and ideas for enhancement. We are listening and engaging with our users to help develop our roadmap and beta test changes.', 'modified': '2018-12-04T13:37:26Z'}, 'review': \"After using this app for two years on a Pebble watch, it was hit or miss.  Moving on to an Apple Watch 2, the interface was better but motion tracking and distance recording was only slightly better.  Recent updates under iOS 12 and WatchOS 5 give much better tracking in the pool.  I still get occasional phantom laps added but overall, length tracking is very good.\\n\\nThe app still cannot distinguish my breaststroke from freestyle.  So frustrating. \\n\\nI wish the app allowed better data analysis of multiple workouts over a period of months, like being able to chart swolf for all of my swims.  I’m not a competitive swimmer so many of the apps features don't appeal to me.  I just don't understand why I cant look at the pace of all my freestyle sessions over time and see if I’m improving.\", 'rating': 4, 'isEdited': False, 'title': 'Improved tracking but data analysis still weak', 'userName': 'ENC iOS Reviews'}\n",
      "{'date': datetime.datetime(2020, 8, 4, 11, 7, 47), 'developerResponse': {'id': 17008952, 'body': 'Thanks for your awesome feedback!', 'modified': '2020-07-31T17:09:09Z'}, 'review': 'I like sport gadgets, but usually 9 out of 10 times my enthusiasm ends in great disappointment. However, the Form swim goggles have by far exceeded my expectations - they simply work. All the features advertised work better than expected and the app is a solid companion of the goggles. If you want to focus on your swim and forget counting laps or looking up for your time, the Form swim goggles are the best solution. They are also for me personally one of the best fitting goggles I’ve ever used, but that might be different for others people. I am really grateful for the team having developed these goggles. I wish more people knew about them. They are now also sold in Europe, but I was able to order them from the US.\\nP. S. : last week I tried out the new open water feature after a firmware update. I connected my Form goggle with my Apple Watch series 4 and went for a first swim. Once again, it all worked as announced. Just as a suggestion, I really wish that the developers could use Apple Watch’s inbuilt compass to show the direction of my swim on the display too. It’s my only future feature request!', 'rating': 5, 'isEdited': True, 'title': 'Amazing! Now even better 😃', 'userName': 'armanbn'}\n",
      "{'date': datetime.datetime(2023, 5, 7, 17, 56), 'review': 'Amazing app, amazing coach and superb courses. I am enjoying the app so much and it motivates me to go at least twice a week for swim. I find courses are very well made and help any aspiring swimmer at all levels. \\nI used to swim but the coach had changed my swim style and technique so much and it improved my swimming endurance and skill to a great extent. \\nThank you for the wonderful service. The subscription is very well worth. In fact I would say you get lot more than you pay if you are persistent with the workouts and the courses', 'rating': 5, 'isEdited': False, 'userName': 'satheeshka', 'title': 'Amazing app'}\n"
     ]
    }
   ],
   "source": [
    "print(duoswim.reviews[0])\n",
    "print(myswimpro.reviews[0])\n",
    "print(swimcom.reviews[0])\n",
    "print(form.reviews[0])\n",
    "print(swimup.reviews[0])"
   ]
  },
  {
   "cell_type": "code",
   "execution_count": 68,
   "metadata": {},
   "outputs": [],
   "source": [
    "duoswimdf = pd.DataFrame(np.array(duoswim.reviews), columns=['review'])\n",
    "duoswimdf2 = duoswimdf.join(pd.DataFrame(duoswimdf.pop('review').tolist()))\n",
    "myswimprodf = pd.DataFrame(np.array(myswimpro.reviews), columns=['review'])\n",
    "myswimprodf2 = myswimprodf.join(pd.DataFrame(myswimprodf.pop('review').tolist()))\n",
    "swimcomdf = pd.DataFrame(np.array(swimcom.reviews), columns=['review'])\n",
    "swimcomdf2 = swimcomdf.join(pd.DataFrame(swimcomdf.pop('review').tolist()))\n",
    "formdf = pd.DataFrame(np.array(form.reviews), columns=['review'])\n",
    "formdf2 = formdf.join(pd.DataFrame(formdf.pop('review').tolist()))\n",
    "swimupdf = pd.DataFrame(np.array(swimup.reviews), columns=['review'])\n",
    "swimupdf2 = swimupdf.join(pd.DataFrame(swimupdf.pop('review').tolist()))"
   ]
  },
  {
   "cell_type": "code",
   "execution_count": 69,
   "metadata": {},
   "outputs": [],
   "source": [
    "duoswimdf2 = duoswimdf2.drop('developerResponse', axis=1)\n",
    "duoswimdf2 = duoswimdf2.drop('isEdited', axis=1)\n",
    "duoswimdf2 = duoswimdf2.drop('userName', axis=1)\n",
    "duoswimdf2 = duoswimdf2.drop('date', axis=1)\n",
    "myswimprodf2 = myswimprodf2.drop('developerResponse', axis=1)\n",
    "myswimprodf2 = myswimprodf2.drop('isEdited', axis=1)\n",
    "myswimprodf2 = myswimprodf2.drop('userName', axis=1)\n",
    "myswimprodf2 = myswimprodf2.drop('date', axis=1)\n",
    "swimcomdf2 = swimcomdf2.drop('developerResponse', axis=1)\n",
    "swimcomdf2 = swimcomdf2.drop('isEdited', axis=1)\n",
    "swimcomdf2 = swimcomdf2.drop('userName', axis=1)\n",
    "swimcomdf2 = swimcomdf2.drop('date', axis=1)\n",
    "formdf2 = formdf2.drop('developerResponse', axis=1)\n",
    "formdf2 = formdf2.drop('isEdited', axis=1)\n",
    "formdf2 = formdf2.drop('userName', axis=1)\n",
    "formdf2 = formdf2.drop('date', axis=1)\n",
    "swimupdf2 = swimupdf2.drop('developerResponse', axis=1)\n",
    "swimupdf2 = swimupdf2.drop('isEdited', axis=1)\n",
    "swimupdf2 = swimupdf2.drop('userName', axis=1)\n",
    "swimupdf2 = swimupdf2.drop('date', axis=1)"
   ]
  },
  {
   "cell_type": "code",
   "execution_count": 70,
   "metadata": {},
   "outputs": [],
   "source": [
    "duoswimdf2.to_csv('duoswim.csv', escapechar='|')\n",
    "myswimprodf2.to_csv('myswimpro.csv', escapechar='|')\n",
    "swimcomdf2.to_csv('swimcom.csv', escapechar='|')\n",
    "formdf2.to_csv('form.csv', escapechar='|')\n",
    "swimupdf2.to_csv('swimup.csv', escapechar='|')"
   ]
  },
  {
   "cell_type": "code",
   "execution_count": null,
   "metadata": {},
   "outputs": [],
   "source": []
  }
 ],
 "metadata": {
  "kernelspec": {
   "display_name": ".venv",
   "language": "python",
   "name": "python3"
  },
  "language_info": {
   "codemirror_mode": {
    "name": "ipython",
    "version": 3
   },
   "file_extension": ".py",
   "mimetype": "text/x-python",
   "name": "python",
   "nbconvert_exporter": "python",
   "pygments_lexer": "ipython3",
   "version": "3.10.12"
  },
  "orig_nbformat": 4
 },
 "nbformat": 4,
 "nbformat_minor": 2
}
